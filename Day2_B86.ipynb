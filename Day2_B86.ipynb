{
 "cells": [
  {
   "cell_type": "code",
   "execution_count": 5,
   "id": "5dd95fe0",
   "metadata": {},
   "outputs": [],
   "source": [
    "# Rules for declaring the variables in python :\n",
    "# Rule_No_1 : No Name spaces while declaring the variable name    \n",
    "first name = 'Faiyaz'\n",
    "print (first name)"
   ]
  },
  {
   "cell_type": "code",
   "execution_count": 9,
   "id": "d35a5b9d",
   "metadata": {},
   "outputs": [
    {
     "name": "stdout",
     "output_type": "stream",
     "text": [
      "Faiyaz\n"
     ]
    }
   ],
   "source": [
    "firstname = 'Faiyaz'\n",
    "print(firstname)"
   ]
  },
  {
   "cell_type": "code",
   "execution_count": 12,
   "id": "220b6e48",
   "metadata": {},
   "outputs": [],
   "source": [
    "# Rule_No_2 : A variable name should not start with a number **\n",
    "1name = 'sandeep\n",
    "print(1name)"
   ]
  },
  {
   "cell_type": "code",
   "execution_count": null,
   "id": "f583eb84",
   "metadata": {},
   "outputs": [],
   "source": [
    "name1='sandeep'\n",
    "print(name1)"
   ]
  },
  {
   "cell_type": "code",
   "execution_count": 14,
   "id": "89b894a4",
   "metadata": {},
   "outputs": [],
   "source": [
    "# Rule_No_2 : A variable name should not contain special characters  ----->   @ $ % ^ & *\n",
    "name@ = 'joseph'\n",
    "print(name@)"
   ]
  },
  {
   "cell_type": "code",
   "execution_count": 15,
   "id": "eace190f",
   "metadata": {},
   "outputs": [],
   "source": [
    "# Introduction to datatype :\n",
    "# 1- String =======> str\n",
    "# 2- Number (Integers) =======> int and floats (decimals  0.1,  0.2) float\n",
    "# 3- Lists =======> list.\n",
    "# 4- Tuples =======> tuple\n",
    "# 5- Dictionaries =======> dict\n"
   ]
  },
  {
   "cell_type": "code",
   "execution_count": null,
   "id": "072b1338",
   "metadata": {},
   "outputs": [],
   "source": [
    "# Classification of datatypes :\n",
    "# Broadly datatypes are classified into two categories :\n",
    "# 1- Mutable datatypes =======> Which we can edit/alter ======> Flexible in nature\n",
    "# 2- Immutable datatypes ======> which we cannot be able to edit/alter =====> Fixed in nature"
   ]
  },
  {
   "cell_type": "code",
   "execution_count": 19,
   "id": "e22f45e3",
   "metadata": {},
   "outputs": [
    {
     "name": "stdout",
     "output_type": "stream",
     "text": [
      "naga babu\n",
      "basha r\n"
     ]
    }
   ],
   "source": [
    "# 1- Introduction to string datatype :\n",
    "     # Defination : A string is nothing but a series of characters declared in quotes.\n",
    "     # Classification : It's classified as an immutable datatype\n",
    "     # How to define the string datatype :\n",
    "          # 1- Single quotes\n",
    "          # 2- Double quotes\n",
    "name = 'naga babu'    # single quote\n",
    "print (name)\n",
    "name2 = \"basha r\"     # double quote\n",
    "print(name2)\n",
    "fullname = \"joseph anthony\""
   ]
  },
  {
   "cell_type": "code",
   "execution_count": 20,
   "id": "584f2ddf",
   "metadata": {},
   "outputs": [
    {
     "name": "stdout",
     "output_type": "stream",
     "text": [
      "Joseph Anthony\n"
     ]
    }
   ],
   "source": [
    "# Introduction to string methods :\n",
    "type(name)\n",
    "type(name2)\n",
    "type(fullname)\n",
    "print(fullname.title())"
   ]
  },
  {
   "cell_type": "code",
   "execution_count": 21,
   "id": "63c371c1",
   "metadata": {},
   "outputs": [
    {
     "name": "stdout",
     "output_type": "stream",
     "text": [
      "JOSEPH ANTHONY\n",
      "joseph anthony\n"
     ]
    }
   ],
   "source": [
    "# Req : I want the entire name in capitals and lower case\n",
    "print(fullname.upper())\n",
    "print(fullname.lower())"
   ]
  },
  {
   "cell_type": "code",
   "execution_count": null,
   "id": "8fcdd5e5",
   "metadata": {},
   "outputs": [],
   "source": []
  },
  {
   "cell_type": "code",
   "execution_count": null,
   "id": "f332a580",
   "metadata": {},
   "outputs": [],
   "source": []
  },
  {
   "cell_type": "code",
   "execution_count": null,
   "id": "fea2dd8f",
   "metadata": {},
   "outputs": [],
   "source": []
  }
 ],
 "metadata": {
  "kernelspec": {
   "display_name": "Python 3 (ipykernel)",
   "language": "python",
   "name": "python3"
  },
  "language_info": {
   "codemirror_mode": {
    "name": "ipython",
    "version": 3
   },
   "file_extension": ".py",
   "mimetype": "text/x-python",
   "name": "python",
   "nbconvert_exporter": "python",
   "pygments_lexer": "ipython3",
   "version": "3.11.5"
  }
 },
 "nbformat": 4,
 "nbformat_minor": 5
}
