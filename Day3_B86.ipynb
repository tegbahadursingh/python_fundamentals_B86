{
 "cells": [
  {
   "cell_type": "code",
   "execution_count": null,
   "id": "36855b0c",
   "metadata": {},
   "outputs": [],
   "source": [
    "\"\"\"\n",
    "Continuation with strings:\n",
    "Understandin the concept of f strings :\n",
    "General syntax of f strings :\n",
    "f\"custom message {placeholder -1} {placeholder -2} {placeholder.....n}"
   ]
  },
  {
   "cell_type": "code",
   "execution_count": null,
   "id": "3122ebb1",
   "metadata": {},
   "outputs": [],
   "source": [
    "firstname='pradeep'\n",
    "lastname=\"kumar\"\n",
    "# Req : I want to get the full name......?\n",
    "fullname=f\"{firstname} {lastname}\"\n",
    "print(fullname)\n",
    "print(fullname.title())"
   ]
  },
  {
   "cell_type": "code",
   "execution_count": null,
   "id": "b3f0f01d",
   "metadata": {},
   "outputs": [],
   "source": [
    "message = f\"Keep up the good work, {fullname.title()}\"\n",
    "print(message)"
   ]
  },
  {
   "cell_type": "code",
   "execution_count": null,
   "id": "dc956356",
   "metadata": {},
   "outputs": [],
   "source": [
    "# Adding whitespaces to strings:\n",
    "print (\"fav_prog_language:pythonjavac++swiftc\")\n",
    "print(\"fav_prog_language:\\npython\\njava\\nc++\\nswift\\nc\")"
   ]
  },
  {
   "cell_type": "code",
   "execution_count": null,
   "id": "7cbd3f0f",
   "metadata": {},
   "outputs": [],
   "source": [
    "# \\n -----> new line delimiter\n",
    "print (\"fav_prog_language:\\n\\tpython\\n\\tjava\\n\\tc++\\n\\tswift\\n\\tc\")"
   ]
  },
  {
   "cell_type": "code",
   "execution_count": null,
   "id": "a19bf73a",
   "metadata": {},
   "outputs": [],
   "source": [
    "# \\t -----> tab delimiter\n",
    "# Removing whitespaces from the strings :\n",
    "name =\"    python\"                 # gap is on the left side......\n",
    "print(name)\n",
    "name2 = \"python      \"             # gap is on the right side......\n",
    "print(name2)\n",
    "name3=\"python\"\n",
    "print(name3)\n",
    "name.lstrip()\n",
    "name2.rstrip()\n",
    "name4 = \"                          python                   \"\n",
    "print(name4)\n",
    "name4.strip()"
   ]
  }
 ],
 "metadata": {
  "kernelspec": {
   "display_name": "Python 3 (ipykernel)",
   "language": "python",
   "name": "python3"
  },
  "language_info": {
   "codemirror_mode": {
    "name": "ipython",
    "version": 3
   },
   "file_extension": ".py",
   "mimetype": "text/x-python",
   "name": "python",
   "nbconvert_exporter": "python",
   "pygments_lexer": "ipython3",
   "version": "3.11.5"
  }
 },
 "nbformat": 4,
 "nbformat_minor": 5
}
