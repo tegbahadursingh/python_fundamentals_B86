{
 "cells": [
  {
   "cell_type": "code",
   "execution_count": null,
   "id": "d4dbd1ee",
   "metadata": {},
   "outputs": [],
   "source": [
    "\"\"\"\"\n",
    "Introduction to list datatype:\n",
    "Defination : A list is a collection of items declared in a particular oder.\n",
    "Classification : It is classified as a mutable datatype.\n",
    "How to define/delcare the list datatype..............[ ]"
   ]
  },
  {
   "cell_type": "code",
   "execution_count": null,
   "id": "ab45d690",
   "metadata": {},
   "outputs": [],
   "source": [
    "students=[\"afsha\", 'pradeepa', \"naveen\", 'prakash', 'muskan', \"abdul\"]    #0, 1, 2, 3, 4, 5\n",
    "print(students)\n",
    "type(students)"
   ]
  },
  {
   "cell_type": "code",
   "execution_count": null,
   "id": "a04afbc4",
   "metadata": {},
   "outputs": [],
   "source": [
    "# Introduction to indexing : Indexing will be start from the value 0 onwards.\n",
    "# Req : I want to get pradeepa name in the output.................?\n",
    "print(students[1])\n",
    "print(students[1].title())\n",
    "print(students[3].upper())"
   ]
  },
  {
   "cell_type": "code",
   "execution_count": null,
   "id": "3fb9fec7",
   "metadata": {},
   "outputs": [],
   "source": [
    "# 1- How to add new elements to the list\n",
    "# 2- How to modify the elements in the list\n",
    "# 3- How to delete the elements in the list\n",
    "# Req : I want to add joseph to the above list.....?\n",
    "students.append(\"joseph\")\n",
    "print(students)"
   ]
  },
  {
   "cell_type": "code",
   "execution_count": null,
   "id": "ad83a8cf",
   "metadata": {},
   "outputs": [],
   "source": [
    "# Req : I want to add afreen to the above list....in the 2nd index position\n",
    "students.insert(2,'afreen')\n",
    "print(students)\n",
    "print(students[2])"
   ]
  },
  {
   "cell_type": "code",
   "execution_count": null,
   "id": "b835e4fa",
   "metadata": {},
   "outputs": [],
   "source": [
    "# Req : I want modify afsha name to sonam\n",
    "students[0]='sonam'\n",
    "print(students)"
   ]
  },
  {
   "cell_type": "code",
   "execution_count": null,
   "id": "3313ce47",
   "metadata": {},
   "outputs": [],
   "source": [
    "# Req : I want to delete naveen name from the above list.....?\n",
    "del students[3]\n",
    "print(students)"
   ]
  },
  {
   "cell_type": "code",
   "execution_count": null,
   "id": "c5f797c3",
   "metadata": {},
   "outputs": [],
   "source": [
    "# Req : Temp deleting the elements using pop method:\n",
    "# Pop will be by default deleting the last element in the list.\n",
    "print(students)\n",
    "x = students.pop()\n",
    "print(students)"
   ]
  },
  {
   "cell_type": "code",
   "execution_count": null,
   "id": "b3484a09",
   "metadata": {},
   "outputs": [],
   "source": [
    "# NOTE : What is the difference between delete and pop method in a list\n",
    "# We use hass (#) character for commenting the code"
   ]
  }
 ],
 "metadata": {
  "kernelspec": {
   "display_name": "Python 3 (ipykernel)",
   "language": "python",
   "name": "python3"
  },
  "language_info": {
   "codemirror_mode": {
    "name": "ipython",
    "version": 3
   },
   "file_extension": ".py",
   "mimetype": "text/x-python",
   "name": "python",
   "nbconvert_exporter": "python",
   "pygments_lexer": "ipython3",
   "version": "3.11.5"
  }
 },
 "nbformat": 4,
 "nbformat_minor": 5
}
