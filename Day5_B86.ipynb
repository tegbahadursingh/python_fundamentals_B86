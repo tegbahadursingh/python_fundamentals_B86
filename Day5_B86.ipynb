{
 "cells": [
  {
   "cell_type": "code",
   "execution_count": 1,
   "id": "d66b48ae",
   "metadata": {},
   "outputs": [
    {
     "name": "stdout",
     "output_type": "stream",
     "text": [
      "['maruthi', 'kia', 'benz', 'suzuki', 'audi', 'toyota', 'bmw']\n"
     ]
    },
    {
     "data": {
      "text/plain": [
       "list"
      ]
     },
     "execution_count": 1,
     "metadata": {},
     "output_type": "execute_result"
    }
   ],
   "source": [
    "# Continutation with list datatype :\n",
    "# Organising the list datatype :\n",
    "cars = ['maruthi', \"kia\", 'benz', 'suzuki', 'audi', 'toyota', \"bmw\"]\n",
    "print(cars)\n",
    "type(cars)"
   ]
  },
  {
   "cell_type": "code",
   "execution_count": 2,
   "id": "8e44b4ed",
   "metadata": {},
   "outputs": [
    {
     "name": "stdout",
     "output_type": "stream",
     "text": [
      "['audi', 'benz', 'bmw', 'kia', 'maruthi', 'suzuki', 'toyota']\n"
     ]
    }
   ],
   "source": [
    "# Req : I want to organise the list in the alphabetical order .... A - Z\n",
    "# There are two approaches :\n",
    "     # 1- Temp Approach =======> Sorted =======> we will be having the original order of the list created.\n",
    "     # 2- Permanent approach =======> Changes are implied permanently.\n",
    "print(sorted(cars))"
   ]
  },
  {
   "cell_type": "code",
   "execution_count": 3,
   "id": "c6d4847d",
   "metadata": {},
   "outputs": [
    {
     "name": "stdout",
     "output_type": "stream",
     "text": [
      "['maruthi', 'kia', 'benz', 'suzuki', 'audi', 'toyota', 'bmw']\n"
     ]
    }
   ],
   "source": [
    "# Audi, Benz, bmw..\n",
    "print(cars)    # orginal order.."
   ]
  },
  {
   "cell_type": "code",
   "execution_count": 4,
   "id": "3388d0e2",
   "metadata": {},
   "outputs": [
    {
     "name": "stdout",
     "output_type": "stream",
     "text": [
      "['audi', 'benz', 'bmw', 'kia', 'maruthi', 'suzuki', 'toyota']\n"
     ]
    }
   ],
   "source": [
    "cars.sort()\n",
    "print(cars)"
   ]
  },
  {
   "cell_type": "code",
   "execution_count": 5,
   "id": "dda97444",
   "metadata": {},
   "outputs": [
    {
     "name": "stdout",
     "output_type": "stream",
     "text": [
      "['audi', 'benz', 'bmw', 'kia', 'maruthi', 'suzuki', 'toyota']\n"
     ]
    }
   ],
   "source": [
    "print(cars)      # A - Z"
   ]
  },
  {
   "cell_type": "code",
   "execution_count": 6,
   "id": "93bb8488",
   "metadata": {},
   "outputs": [],
   "source": [
    "# Benz and bmw =======> a, b, e, m"
   ]
  },
  {
   "cell_type": "code",
   "execution_count": 7,
   "id": "d973eba4",
   "metadata": {},
   "outputs": [],
   "source": [
    "# Interview question : What is the diff between sorted and sort methods in list.....?"
   ]
  },
  {
   "cell_type": "code",
   "execution_count": 12,
   "id": "248efd38",
   "metadata": {},
   "outputs": [],
   "source": [
    "# I want to print the list in the reverse order   ========>  A - Z ========>   Z - A\n",
    "cars.reverse()"
   ]
  },
  {
   "cell_type": "code",
   "execution_count": 13,
   "id": "d5d49ce4",
   "metadata": {},
   "outputs": [
    {
     "name": "stdout",
     "output_type": "stream",
     "text": [
      "['toyota', 'suzuki', 'maruthi', 'kia', 'bmw', 'benz', 'audi']\n"
     ]
    }
   ],
   "source": [
    "print(cars)"
   ]
  },
  {
   "cell_type": "code",
   "execution_count": 15,
   "id": "1f17cd30",
   "metadata": {},
   "outputs": [
    {
     "name": "stdout",
     "output_type": "stream",
     "text": [
      "['toyota', 'suzuki', 'maruthi', 'kia', 'bmw', 'benz', 'audi']\n"
     ]
    },
    {
     "data": {
      "text/plain": [
       "7"
      ]
     },
     "execution_count": 15,
     "metadata": {},
     "output_type": "execute_result"
    }
   ],
   "source": [
    "# I want to know the total count of elements\n",
    "print(cars)\n",
    "len(cars)"
   ]
  },
  {
   "cell_type": "code",
   "execution_count": 16,
   "id": "a1650d69",
   "metadata": {},
   "outputs": [],
   "source": [
    "# Introduction to slicing :\n",
    "# General syntax of slicing :\n",
    "#     (start_value:stop_value:step_count)\n",
    "# Note : Stop_value will be always excusilve, to include we have to increment the index the by +1"
   ]
  },
  {
   "cell_type": "code",
   "execution_count": 17,
   "id": "6d473673",
   "metadata": {},
   "outputs": [
    {
     "name": "stdout",
     "output_type": "stream",
     "text": [
      "['diksha', 'sonam', 'naveen', 'pradeep', 'abdul', 'nahid', 'afsha', 'muskaan']\n"
     ]
    }
   ],
   "source": [
    "students = ['diksha', 'sonam', \"naveen\", 'pradeep', 'abdul', 'nahid', \"afsha\", 'muskaan']\n",
    "print(students)"
   ]
  },
  {
   "cell_type": "code",
   "execution_count": 18,
   "id": "f13ad0c0",
   "metadata": {},
   "outputs": [
    {
     "name": "stdout",
     "output_type": "stream",
     "text": [
      "['diksha']\n"
     ]
    }
   ],
   "source": [
    "print(students[0:1])"
   ]
  },
  {
   "cell_type": "code",
   "execution_count": 19,
   "id": "1a568df1",
   "metadata": {},
   "outputs": [
    {
     "name": "stdout",
     "output_type": "stream",
     "text": [
      "['diksha', 'sonam']\n"
     ]
    }
   ],
   "source": [
    "print(students[0:2])"
   ]
  },
  {
   "cell_type": "code",
   "execution_count": 20,
   "id": "3d326a0b",
   "metadata": {},
   "outputs": [
    {
     "name": "stdout",
     "output_type": "stream",
     "text": [
      "['naveen', 'pradeep']\n"
     ]
    }
   ],
   "source": [
    "print(students[2:4])"
   ]
  },
  {
   "cell_type": "code",
   "execution_count": 21,
   "id": "86892c17",
   "metadata": {},
   "outputs": [
    {
     "name": "stdout",
     "output_type": "stream",
     "text": [
      "['diksha', 'naveen', 'abdul', 'afsha']\n"
     ]
    }
   ],
   "source": [
    "print(students[0:9:2])"
   ]
  },
  {
   "cell_type": "code",
   "execution_count": null,
   "id": "71d49539",
   "metadata": {},
   "outputs": [],
   "source": []
  }
 ],
 "metadata": {
  "kernelspec": {
   "display_name": "Python 3 (ipykernel)",
   "language": "python",
   "name": "python3"
  },
  "language_info": {
   "codemirror_mode": {
    "name": "ipython",
    "version": 3
   },
   "file_extension": ".py",
   "mimetype": "text/x-python",
   "name": "python",
   "nbconvert_exporter": "python",
   "pygments_lexer": "ipython3",
   "version": "3.11.5"
  }
 },
 "nbformat": 4,
 "nbformat_minor": 5
}
